{
 "cells": [
  {
   "cell_type": "markdown",
   "metadata": {},
   "source": [
    "This dissertation would not have been possible without the indefatigable support of so many people. I would like to first and foremost thank Panos Mavromatis for providing such a steadfast and invaluable source of mentorship, encouragement, and guidance during the course of this entire project through its many stages and developments. \n",
    "\n",
    "I thank my other committee members, Sarah Marlowe, Mary Farbood, and Laurence Maloney for the many hours of time and outpouring of knowledge, as well as their discerning input and careful criticism. I am grateful to Eero Simoncelli for his generosity, and for providing me with so many resources and opportunities. I also owe a huge portion of gratitude towards Marilyn Nonken for her expert guidance, and Eduardus Halim for his unparalleled dedication and belief in me.\n",
    "\n",
    "Jonathan Winters, Paul Fan, Marshall Krinitz, as well as the rest of the NYU Psych IT team have been an incredible source of support, and have constantly gone beyond the call of duty to selflessly help researchers and students. A special thanks to Richie Berger, Mark Barnes, and Yoon Satie as well for being a most fantastic night shift team, and for their emotional encouragement and camaraderie. I would like to also thank Lennart Belok for his kindness and care towards me, especially during my injury recovery phase.\n",
    "\n",
    "I especially thank Tanubot and Rodentia and all the tanukis and rodents of the world. Lastly, I thank my mother, Chi-Hsiang Lin, and father, Ren-Jang Lin, for their years of unconditional and unwavering love and devotion."
   ]
  },
  {
   "cell_type": "code",
   "execution_count": null,
   "metadata": {
    "hideCode": true,
    "hideOutput": true,
    "hidePrompt": true
   },
   "outputs": [],
   "source": [
    "\n",
    "This dissertation is dedicated to my grandfather, Larry, whose purity of vision and love for knowledge has touched my heart and profoundly impacted the way that I view the world."
   ]
  }
 ],
 "metadata": {
  "celltoolbar": "Hide code",
  "kernelspec": {
   "display_name": "Python 3",
   "language": "python",
   "name": "python3"
  },
  "language_info": {
   "codemirror_mode": {
    "name": "ipython",
    "version": 3
   },
   "file_extension": ".py",
   "mimetype": "text/x-python",
   "name": "python",
   "nbconvert_exporter": "python",
   "pygments_lexer": "ipython3",
   "version": "3.6.9"
  }
 },
 "nbformat": 4,
 "nbformat_minor": 4
}
