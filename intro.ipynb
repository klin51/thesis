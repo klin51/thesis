{
 "cells": [
  {
   "cell_type": "raw",
   "metadata": {},
   "source": [
    "\\hypertarget{The Research Objective}{\\chapter{The Research Objective}\\label{The Research Objective}}"
   ]
  },
  {
   "cell_type": "markdown",
   "metadata": {},
   "source": [
    "The eyes of Sassoferrato's Virgin are downcast in prayerful devotion, her countenance, half illuminated from the light above, and half enshrouded in the shadow of her ivory veil, aglow with mysterious divinity. Standing in front of her, one is overcome with the distinct feeling of being prayed over, the soft earth tones and warm reds from her visage and raiment emanating forth the Virgin's kind and tender passion towards humanity. Contrasted against this muted softness is the brilliant blue of the Virgin's cloak, a deep, mesmerizing shade evocative of the heavens that define her divinity, just as much as the understated hues of earth and red attest to her humanity. It is this brilliant blue that has come to define and immortalize Sassoferrato's painting of the Virgin in prayer, as it arrests the eye and commands it to stop, transfixes the spirit to join in the Mother's wonder and devotion, and remains in our consciousness long after we have departed from the scene of her prayerful vigil. \n",
    "\n",
    "Upon the altar wall of the Sistine Chapel is adorned Michelangelo's iconic scene of the Last Judgement, the heavens seemingly parting before the onlooker's eyes, unfolding a revelation of the second advent of the Christ, and the eternity beyond. John the Revelator may have penned that upon the second coming, all eyes shall be fixed upon the Savior, but what rivets the eye to Michelangelo's earthly translation of the scene is the sheer depth and dazzling iridescence of the blue canopy of sky—a profound, resplendent, ecstatic blue that appears to stretch into the realm of infinity, its enthralling translucence pulling the gaze beyond the reality of our own space and into the divine space beyond.\n",
    "\n",
    "The unifying element in both the masterpieces portrayed above is the prominent usage of the color blue, and it is no coincidence that the blue from the Virgin's cloak and the blue of Michelangelo's sky are the same blue, derived from the exact same source. This source is *lapis lazuli*, a semi-precious stone from the remote, northern Afghanistan mountains, which after an extensive and complex process of grinding produces the brilliantly blue pigment known as ultramarine (Finlay, 2007, p.281). Described by Cennino Cennini as \"A noble color, beautiful, the most perfect of all colors\" (Cennini, 2018, p.47), ultramarine is truly the holy grail of all blues, an intense hue of pure idealistic abstraction, the closest attempt we have at capturing the flickering heart of a flame, or bottling the sky. For much of history, ultramarine was worth more than gold, and due to this exorbitant cost, the painters of the Renaissance and Baroque reserved it for the highest of divine subjects---the robe of the Virgin, a case in which the symbolism has endured over time (Plesters, 1966, p.64)---or in cases in which no other shade could suffice, such as depicting the expansiveness and elusive translucence of the heavens (Finlay, 2007, p.288). \n",
    "\n",
    "While most artists of the Renaissance and Baroque, either through economic constraint or a desire towards a certain, coloristic effect, reserved ultramarine for specific contexts of divine raiment or sky, there was one artist that stood out for having a different---even unorthodox---vision for ultramarine. This artist was Johannes Vermeer, a painter of the Dutch Golden Age, and to say that Vermeer had a predilection towards ultramarine would be an understatement---the color appears in almost every one of his canvasses, even if its presence does not quite directly meet the eye (Kühn, 1968, p.175). To date, nobody quite understands how Vermeer was able to acquire such copious amounts of ultramarine that he so liberally applied to his paintings; many suspect that his practices certainly ran his family into an enormous amount of debt (Levy-van Halm, 1998; Montias, 1998). Still, like so many artists of his day in their pursuit of this perfect color, he remained undeterred by the ramifications of cost in staunch dedication to his artistic vision.\n",
    "\n",
    "In some of his paintings, Vermeer's employment of ultramarine is more straightforward, traditional even. His *Girl with the Pearl Earring*, *The Milkmaid*, and *Woman in Blue Reading a Letter* features ultramarine in contexts not unlike that of the iconic raiment of the Virgin Mary, its primary function to make an immediate statement of color. In the case of the *Woman in Blue Reading a Letter*, the woman's entire gown---from the areas illuminated by light to the shadows of its creases---are comprised entirely of ultramarine, with only varying quantities of white and black incorporated to adjust for shade (Costaras, 1998, p.157), attesting not only to the sheer power of the color, but also its versatility and complexity. However, Vermeer's usage of ultramarine in other paintings is much more subtle, the pigment incorporated in ways hidden from direct attention and detection, employed in contexts that were entirely original for his time. In the *Young Woman with a Water Pitcher*, the painter mixes ultramarine with other tones to create not a direct coloristic effect, but one of light and shade (Costaras, 1998, p.157). In this painting, one's perception of ultramarine is not the usual experience of intense blue, but rather an experience of luminance in the form of transparent window panes, cool lighting cast upon white walls, and most enchantingly, the paradoxical radiant shadow within the folds of the woman's head scarf. Even more oblique a usage perhaps is the employment of the color as an undercoat to the striking red dress of *The Girl with the Wine Glass*, the intense blue hues obscured completely from our conscious view, the color instead manifesting itself as texture and realistic dimension of the creases and folds of the dress (Villa, 2012, p.64). And truly masterful is Vermeer's application of ultramarine in *The View of Delft*---a painting to which many consider as one of the most beautiful cityscapes in western art---not as immediate color of sky or water, but rather to the foliage of the leaves and shingles of the rooftops, creating a sense of depth and a distance across both space and time---an uncanny coexistence between intense realism and the dreamy abstraction of nostalgia for the painter's hometown. \n",
    "\n",
    "The study of Vermeer's unorthodox treatment of ultramarine is an ultimate study of the interconnectivity of color and the other domains of creative artistic forces, an elegant testament to the artist's unique innovation and contribution to the way we view color and an artist's palette, and the breadth of its expressive implications. While some of Vermeer's applications of a color so rare, costly, and bold as ultramarine---such as using it as an undercoat, or mixing it in with other colors until it is barely visible in a decontextualized setting---may have seemed initially counterintuitive or profligate, the resulting artworks speak volumes towards the artist's intuitive understanding of the vast applications and multi-dimensionality of color's aesthetic forces, and just how symbiotic the artistic experience and our perceptual systems are. Transcending Vermeer though, the study of ultramarine and its usages are a larger testimony to the power of a single color and its irreplaceability, and the importance of an artist's dedication to the fine details of their craft, as small changes in one domain can lead to whole scale shifts of the composite artistic result, as the aesthetic integrity of these above artworks would be significantly altered without the force of ultramarine and its sublime, unique properties.  "
   ]
  },
  {
   "cell_type": "raw",
   "metadata": {},
   "source": [
    "\\iftoggle{pretty}{}{\\vspace{\\baselineskip}}\n",
    "\\par\\noindent\\hfil\\rule{0.5\\textwidth}{.4pt}\\hfil\\par\n",
    "\\iftoggle{pretty}{}{\\vspace{\\baselineskip}}"
   ]
  },
  {
   "cell_type": "markdown",
   "metadata": {},
   "source": [
    "This is not a dissertation on visual color. However, the discourse above bears a significant metaphorical relationship to the central focus of this thesis, which is essentially a study of color and its creative agents within the auditory domain. Absolute analogies between different perceptual domains can be tricky to draw, and the connection between the exploration of auditory color in this thesis and the illustrations of visual color above are in no ways meant to be exact and literal translations, but rather serve to prime the reader to the types of motivations and thought processes that will guide the objectives and analyses of this thesis. \n",
    "\n",
    "On the highest level of ideological abstraction, this is a dissertation on musical color---more specifically, an inquiry into the role that the subtleties of musical color have to play on impacting and shaping larger scale musical structures, and ultimately, their relationship to the aesthetic integrity and artistic significance of the resulting compositions. The agents of musical color---which I am in no way claiming to be a sufficient agent---that are the focus of this discourse are the sonic building blocks of musical intervals, macro musical intervals (akin to larger color groups), and even more specifically, micro-variations of intervals in the form of musical temperament (akin to the nuances of shade and hue), the latter in which I will discuss in Chapter 2. Comprehensively, this dissertation is interested in the same questions of significance, irreplaceability, and utility of musical color from the vantage point of the nuances created by tempered musical intervals.\n",
    "\n",
    "While I wish to be able to establish and characterize the relationship between musical intervals and artistic significance in the course of this thesis, the analytical approach adopted is designed to safeguard against the subconscious initial promotion of a preconceived agenda, and does not push towards an early positive truth value of the relationship between musical intervals and artistic significance. Instead, it poses these ideas stated above as questions, approaching the subject from as agnostic a point of view as possible, and allowing the underlying structure of the musical composition to unfold on its own, and dictate the conclusions that we will ultimately arrive at by the end of the last analysis chapter. The analytical forces that I will employ are interdisciplinary and leaning heavily towards the quantitative, supplementing traditional score analysis with statistical, and computational modalities, and may wax technical at points; however, this dissertation is at its heart a musical discourse, interested in musical meaning and significance, and any analysis embarked upon will always contain an application and relation towards larger musical goals and interpretations. Finally, on a broader scale, through the inquiry, analysis, and results of this thesis, I hope to bolster through quantitative means the validity of artistic intuition towards this subject in both believers and skeptics alike, and to foster a more complete and comprehensive understanding and appreciation towards the musical elements that contribute towards our rich and complex artistic experiences as theorists, artists, performers, and collective recipients and guardians of these invaluable works of art.  "
   ]
  },
  {
   "cell_type": "markdown",
   "metadata": {},
   "source": [
    "# Objectives\n",
    "\n",
    "On a more concrete level, the central focus of this project is to examine the role and importance that temperament exerts in the compositional formation and musical integrity of J. S. Bach’s _Well-Tempered Clavier_—specifically, the objective is to demonstrate that the tuning system that Bach was working with was not only a determining factor in shaping his compositional process given a certain key, but more importantly an integral, indispensable element of the composition's overall musical affectation upon sonic realization. The main claim that I wish to test in this dissertation is that Bach’s compositional process was distinctly a function of temperament. In other words, Bach was writing the Well-Tempered Clavier with a well-tempered turning system in mind, as opposed to a system that more resembled equal-tempering, and furthermore that this factor of tuning manifests itself to the listener through producing tensions and harmonies that are unique to that particular system. Essentially, the claim is that the tuning system—which governs the sizes of intervals—exerts direct control over the affect and musical integrity of each individual piece in the collective work, and that this was Bach’s express intent, and to remove it and use a different tuning system in realization of the piece would not only effectively eradicate a dimension of the music, but also in fact alter the very aesthetic makeup and integrity of the piece as a whole. \n",
    "\n",
    "Because of its tonally complete and cyclical nature, the Well-Tempered Clavier lends itself well to the objective study and exploration of both temperament and key (Mies, 1948, p.12; Steblin, 2002, p.7), the two main elements in which this dissertation seeks to determine a connection between, and for the sake of consistency of the data, and also in interest of scope, I will only be focusing on the minor mode fugues of the first volume. The reasons for these specific choices and constraints will be elaborated and expounded upon more in chapter three of this dissertation, which addresses in detail hypotheses and methods of analysis, essentially picking up where the outline of objectives and questions in this chapter ends after a brief historical second chapter. \n",
    "\n",
    "A broader goal of this dissertation is the underscoring of the value that analysis dealing directly with temperament has upon achieving a more complete musical understanding of pieces realized under these specific temperamental settings, in this case, Bach's compositions and the well-tempered system. Just as we parse a musical composition for elements of harmony, rhythm, and motivic structure in order to gain a deeper understanding of a piece's underlying musical integrity, this dissertation seeks to demonstrate salient reasons why we need to be asking similar questions and conducting similar types of analyses with focus on temperament. At the core of what this dissertation really seeks to show is that temperament is an integral and indispensable component that has played a very immediate role in Bach’s artistic vision for the Well-Tempered Clavier, and just as much we consider other compositional elements to be essential factors to musical integrity, it is equally important to consider temperament. Temperament as a musical dimension has largely been ignored in musical scholarship, and is something that we must be engaging in if we are indeed to develop a full understanding of a piece of music. \n",
    "\n",
    "Finally, a tandem analytical/methodological goal is the engagement and application of computational musicology as the main method of analysis in conjunction with traditional means of score analysis, demonstrating the importance that computational and quantitative methods have upon providing a more measurable and concrete way of addressing the traditionally abstract and under-analyzed realm of temperamental analysis. The computational framework consists of expanding upon Michael Cuthbert's symbolic music analysis Python toolkit `music21` (Cuthbert, 2010), the current lingua franca for musical symbolic data analysis (Tymoczko, 2013; Quinn, 2014). \n",
    "\n",
    "The details on the motivation behind focusing on computational musicology will be unpacked in the third chapter regarding methods, and the necessity of an inquiry from this particular vantage point addressed in the next chapter focusing more upon history and literature, but immediately, the main virtue of computational musicology is that it allows us to look over a vast corpus to determine trends and statistical significance of the data that we would otherwise not be able to by traditional/manual means, allowing us to draw statistically significant conclusions as well as test our hypotheses with the absence of human bias (Meredith, 2016, p.25; Volk, 2011, p.138; Huron, 2002), the latter which especially becomes more difficult to control for as data sets get larger. By combining computational means with traditional, I hope to cover the most ground to simultaneously address the topic of temperament in terms of both statistically and musically significant discourse. To date, scholarship and discussions on temperament have been mostly qualitative, or in the case of quantitative studies, done manually, which limits researchers to a specific region of the corpus, making it difficult to draw systematic and statistically significant conclusions, as well as reliably guard against preconceived notions or agendas. It is my hope that recruiting the relatively recent field of computational musicology and a novel framework of analysis that involves the amalgamation of computational, statistical, and traditional methods that has not yet been applied to temperamental studies will bring to the table a different type of authority into the discussion of the role of well-temperament within the musical experience, serving to not only bolster our understanding of the significance of temperament in musical discourse, but also bring to attention the capabilities and virtues of computational musicology, and the potentially important contributions and role that it can play within the existing cannon of musical analytical methods. "
   ]
  },
  {
   "cell_type": "markdown",
   "metadata": {},
   "source": [
    "# Research Questions\n",
    "\n",
    "The following questions are those that I wish to address through my analysis, that are systematically laid out to ultimately address the issue of temperament’s role and importance in the compositional process and resulting musical integrity of a piece.\n",
    "\n",
    "To properly set up the proceeding questions though, the following premises should be provided to help establish historical and literary context; these points are not assumptions, but are rather derivable through historical context and literature, as will be discussed in Chapter 2, but are first presented here to establish a foundation of what is already known and understood in the field for the objectives and questions of this thesis to build from and stand upon:\n",
    "\n",
    "## Premises\n",
    "\n",
    "1. We have strong evidence that the Well-Tempered Clavier was conceived under some form of well-temperament, as opposed to meantone or equal temperament (Reinhardt, 2004; Ledbetter, 2008).\n",
    "2. There is a precedence for the relationship between historical tuning systems and compositional styles and interval predilection during their respective eras prior to the advent of well-temperament, specifically the medieval period and Pythagorean tuning, and the Renaissance period with meantone temperament (Lindley, 1980; Schulter, 2002). \n",
    "3. There exists a robust body of qualitative, theoretical, and anecdotal support from scientists, philosophers, theorists, composers, and performers that attests to the system of well-temperament being an important and desired dimension of artistic influence and resource (Jorgensen, 1999).\n",
    "4. There are partial, manually generated quantitative studies that point towards the notion that Bach’s compositional and contrapuntal process (e.g. the raw frequency of usage of certain intervals, as well as varying approaches to texture and voicing that either draw attention to or away from certain intervals) was at least, in part, a function of well-temperament (Barnes, 1979; Reinhardt, 2004).\n",
    "\n",
    "## Questions\n",
    "\n",
    "1. Are we able to observe statistically significant, robust, and systematic internal evidence from the score alone that attests to temperament's relationship with key? What does the effect of temperament look like in relationship to key? Can we extend this to composition beyond mere key effects, and can this be demonstrated in a consistent, large-scale, and comprehensive way through quantitative methods (i.e., of analyzing temperament through the aid of computational methods and statistical distributions)? \n",
    "2. If (1) is affirmed, on what levels of scope and parameterization are these effects of temperament observable, and what compositional elements of the music do temperament exert effects upon? How is this specifically demonstrated through Bach’s compositional choices (i.e. what are the correlations between key, interval choice and usage, motifs, and treatment of counterpoint)? \n",
    "3. If (2) is affirmed, can we establish that temperament is truly an integral factor to the overall musical integrity of a specific piece. If so, how is the structure of a piece inherently altered through temperament and tempered intervals? Or alternatively, are the effects more functional, and is the aesthetic and affectual implication of a piece essentially unaltered by temperament? \n",
    "4. How do these aforementioned tempered intervals, musical elements, and resulting larger scale structures affect a composition's aesthetic outcome, and dissonance/consonance profile? Furthermore, how does temperament tie directly into the experience of affect and key characteristics in the Well-Tempered Clavier? \n",
    "\n",
    "In a broader, contextualized sense: \n",
    "\n",
    "**Can we affirm through quantitative means the qualitative accounts and intuitive conviction that artists, theorists, and philosophers have had throughout the centuries that the notion of key characteristics is in fact a statistically justifiable phenomenon, and is inextricably linked to well-temperament?**\n",
    "\n",
    "The purpose of addressing each of these questions is to underscore the importance of considering temperament when discussing the underlying large-scale structural elements within Bach’s Well-Tempered Clavier, to illuminate what is gained in terms of understanding and affect when one analyzes and performs the work under the lens of well-temperament, and conversely what is lost when this is neglected, and a different system (e.g. equal temperament) is employed in its stead."
   ]
  },
  {
   "cell_type": "markdown",
   "metadata": {},
   "source": [
    "# Layout of Inquiry and Argument\n",
    "\n",
    "Having now provided the research questions of this dissertation, the concise, step-by-step layout of the overarching logical process that my inquiry will follow is delineated below. My central goal is to determine whether or not there exists statistical support for and a reasonable belief to a positive correlation and causation amongst these following independent, intermediate, and dependent variables.\n",
    "\n",
    "This dissertation will analyze and examine how—\n",
    "\n",
    "1. __Musical temperament__ (_input, independent variable_), in this case, unequal, well-temperament, directly controls the\n",
    "2. __Statistical distribution of intervals and choice of interval selection__ (_second level, intermediate variable_), which in turns affects the approach to and treatment of: \n",
    "3. __Compositional elements__ (_third level, intermediate variable_) which include\n",
    "    1. Temporal and durational elements\n",
    "    2. Textural thickness\n",
    "    3. Harmonic implication \n",
    "    4. Higher level, large-scale structural architecture\n",
    "    5. Motivic salience and symbolism\n",
    "    6. Fugal elements and techniques (subject and countersubject choice, usage of stretto)\n",
    "    7. Approach to chromaticism\n",
    "    8. Balance of dissonance and consonance (motion and stasis)  \n",
    "    \n",
    "   ...that ultimately exerts a determining influence upon our perception of\n",
    "4. __Musical Affect, Key Characteristics, and Aesthetic Integrity__ (_output, dependent variable_) in J. S. Bach’s Well-Tempered Clavier. "
   ]
  },
  {
   "cell_type": "markdown",
   "metadata": {},
   "source": [
    "# Overview of Chapters\n",
    "\n",
    "Chapter 3 of this dissertation will go into these objectives in greater depth, defining more clearly the dissertation's constraints, providing a comprehensive outline for the analytical and computational methods employed and their respective goals, and framing the thesis in terms of null and alternative hypotheses with sets of expectations that should result from each scenario. However, before I delve into these methodological details, it is important to give a brief overview of the history of tuning and temperament in order to put things into context. Chapter 2 will discuss temperament, providing a comprehensive explanation of what it is, why it exists, and most importantly, why it is important—and deserving—of the focus of our attention, and what can be gained from such an angle of inquiry. The next chapter will also address the significance of a study on temperament, and provide reasons as to why such a study, especially from the vantage point that is taken in this dissertation, is valuable and very much needed. Lastly, it is important to stress that the discourse on related literature and historical overview in chapter 2 is not so much for didactic purposes as it is to demonstrate evidence supporting the critical premises listed in this chapter, from which the construction of the main questions of this thesis rest upon, as well as support the choices for the analytical methods in Chapter 3. \n",
    "\n",
    "Following the historical and methodological chapters 2 and 3 will be the analysis chapters (4-6), divided into three portions organized by the scope, progressing from broad/general to narrow/local, with the analytical inquiry and goals of each chapter directly informed from the findings of the previous one. Chapter 4 serves as a survey on the broadest level, aiming first to illustrate the effects of well-temperament from the data (i.e. intervals within the minor mode fugues of the WTC I) alone, and establish any broad trends of correlations between temperament and key within the corpus. Chapter 5 takes the trends observed in chapter 4 and analyzes them on a more detailed level, adding certain musical parameters such as duration, texture, specific intervals, and scale degrees to ascertain the relationship between specific musical elements and temperament. Lastly, chapter 6 will narrow the aperture down even further to the motivic and fugal level, focusing on how temperament has affected these compositions on a thematic and musical level. \n",
    "\n",
    "Each analysis chapter also provides a summary and conclusion of the studies contained within it, and chapters 5 and 6 include an opening portion which summarizes the conclusions from the chapter preceding, designed to aid the reader interested in a more modular approach to parsing the dissertation. Finally, a conclusion chapter will synthesize and present the cumulative conclusions derived across the three analysis chapters on the scope and implications of temperament's relationship with the compositional process and musical impact of Bach's WTC I, and end with a discussion of the greater significance of the study in its relationship with the performer as well as the wider musical and artistic audience."
   ]
  }
 ],
 "metadata": {
  "kernelspec": {
   "display_name": "Python 3",
   "language": "python",
   "name": "python3"
  },
  "language_info": {
   "codemirror_mode": {
    "name": "ipython",
    "version": 3
   },
   "file_extension": ".py",
   "mimetype": "text/x-python",
   "name": "python",
   "nbconvert_exporter": "python",
   "pygments_lexer": "ipython3",
   "version": "3.6.9"
  }
 },
 "nbformat": 4,
 "nbformat_minor": 2
}
